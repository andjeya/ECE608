{
 "cells": [
  {
   "cell_type": "code",
   "execution_count": null,
   "metadata": {},
   "outputs": [],
   "source": [
    "import networkx as nx\n",
    "import matplotlib.pyplot as plt\n",
    "import random\n",
    "import netgraph\n",
    "import copy\n",
    "\n"
   ]
  },
  {
   "cell_type": "markdown",
   "metadata": {},
   "source": [
    "Make Graph"
   ]
  },
  {
   "cell_type": "code",
   "execution_count": null,
   "metadata": {},
   "outputs": [],
   "source": [
    "# SET GRAPH PARAMETERS\n",
    "numNodes = 15\n",
    "degree = 1   \n",
    "\n",
    "# MAKE GRAPHS\n",
    "graph1 = nx.complete_graph(5)\n",
    "#graph2 = random_regular_graph(degree, numNodes, seed=None)\n",
    "graph3 = nx.gn_graph(numNodes, None, None, 0)\n",
    "\n",
    "# INITIALIZE PARAMETERS\n",
    "# COLOR (also used as visited. blue == not visited, red == visiting, not all edges yet considered, green == visted, all edges visited.)\n",
    "color_map3 = [\"tab:blue\"]*len(graph3.nodes)\n",
    "nx.set_node_attributes(graph3, dict(zip(graph3.nodes(), color_map3)), \"color\") # for each node, set attribute color to the value in the color map\n",
    "# DISTANCE (inaccurate and unused. theoretically node distance from initial vertex)\n",
    "distance_map3 = [None]*len(graph3.nodes)\n",
    "nx.set_node_attributes(graph3, dict(zip(graph3.nodes(), distance_map3)), \"dist\") \n",
    "# PREVIOUS (the node we came from before to access current node)\n",
    "previous_map3 = [None]*len(graph3.nodes)\n",
    "nx.set_node_attributes(graph3, dict(zip(graph3.nodes(), previous_map3)), \"prev\") \n",
    "# LAST TOUCH (the time node is left for the last time)\n",
    "last_touch_map3 = [None]*len(graph3.nodes)\n",
    "nx.set_node_attributes(graph3, dict(zip(graph3.nodes(), last_touch_map3)), \"last_touch\") \n",
    "\n",
    "# MAKE COPIES OF THE GRAPH\n",
    "dfsGraph = copy.deepcopy(graph3) # copy of the graph for dfs topological sort algorithm\n",
    "bfsGraph = copy.deepcopy(graph3) # copy of the graph for bfs topological sort algorithm"
   ]
  },
  {
   "cell_type": "markdown",
   "metadata": {},
   "source": [
    "Print Generated Graph"
   ]
  },
  {
   "cell_type": "code",
   "execution_count": null,
   "metadata": {},
   "outputs": [],
   "source": [
    "# PRINT GRAPH\n",
    "nx.draw(dfsGraph, node_color=nx.get_node_attributes(dfsGraph, 'color').values(), with_labels=True)"
   ]
  },
  {
   "cell_type": "markdown",
   "metadata": {},
   "source": [
    "Run DFS Topological Sort"
   ]
  },
  {
   "cell_type": "code",
   "execution_count": null,
   "metadata": {},
   "outputs": [],
   "source": [
    "# page 53 ln6\n",
    "# an algorithm for topological sort\n",
    "# call DFS(G) to compute finishing times f[v] for each vertex v\n",
    "# as each vertex is finished, insert it onto the front of a linked list\n",
    "# return the linked list of vertices\n",
    "time = 0\n",
    "\n",
    "# FUNCTION FOR DFS VISITING\n",
    "def dfsVisit(node, graph, time, topoList):\n",
    "    time = time + 1\n",
    "    nx.set_node_attributes(graph, {node:\"tab:red\"}, \"color\")\n",
    "    nx.set_node_attributes(graph, {node:time}, \"dist\")\n",
    "    for subnode in graph.successors(node):\n",
    "        if(nx.get_node_attributes(graph, 'color')[subnode]=='tab:blue'): # means we didn't visit the child before\n",
    "            nx.set_node_attributes(graph, {subnode:node}, \"prev\")\n",
    "            topoList, nodeUnused, time = dfsVisit(subnode, graph, time, topoList)\n",
    "    nx.set_node_attributes(graph, {node:\"tab:green\"}, \"color\") # at this point we have considered all edges\n",
    "    time = time + 1\n",
    "    nx.set_node_attributes(graph, {node:time}, \"last_touch\") # at this point we have considered all edges\n",
    "    topoList.append(node)\n",
    "    return topoList, node, time\n",
    "\n",
    "\n",
    "# RUN DFS TOPOLOGICAL SORT\n",
    "# randomize the list of nodes in the graph before looping through them. This reduces the likelyhood of simply traversing the graph from the bottom up, making toposort less interesting\n",
    "randomizedDFSGraphNodes = list(dfsGraph.nodes)\n",
    "random.shuffle(randomizedDFSGraphNodes) # our randomized list of all nodes in the graph\n",
    "topoList = [] # will store our topological order of visited nodes\n",
    "for node in randomizedDFSGraphNodes: # page 53 lecture note 6\n",
    "    if not (nx.get_node_attributes(dfsGraph, 'color')[node]=='tab:green'): # means we didn't visit it before\n",
    "        topoList, nodeUnused, time = dfsVisit(node, dfsGraph, time, topoList) # run DFS starting from this node, record topological ordering\n",
    "print(\"DFS topo list = \" + str(topoList))\n",
    "\n",
    "# PRINT TOPOLOGICALLY SORTED GRAPH\n",
    "# the two dictionaries must each have identical keys before new dictionary creation below\n",
    "assert(nx.get_node_attributes(dfsGraph, 'last_touch').keys() <= nx.get_node_attributes(dfsGraph, 'prev').keys()) \n",
    "# make node labels including topological sort\n",
    "nodeLabelsDictionary = {} # node, previous, last touch\n",
    "for key in nx.get_node_attributes(dfsGraph, 'last_touch'):\n",
    "    prev = nx.get_node_attributes(dfsGraph, 'prev')[key]\n",
    "    last = nx.get_node_attributes(dfsGraph, 'last_touch')[key]\n",
    "    nodeLabelsDictionary[key] = \"N:\" + str(key) + \"\\nP:\" + str(prev) + \"\\nF:\" + str(last)\n",
    "#print(\"Node labels dictionary = \" + str(nodeLabelsDictionary))\n",
    "# draw simple graph\n",
    "nx.draw(dfsGraph, node_color=nx.get_node_attributes(dfsGraph, 'color').values(), with_labels=True)\n",
    "# draw graph with more complex labels\n",
    "#nx.draw(dfsGraph, node_color=nx.get_node_attributes(dfsGraph, 'color').values(), labels = nodeLabelsDictionary, with_labels=True)\n"
   ]
  },
  {
   "cell_type": "markdown",
   "metadata": {},
   "source": [
    "Print Graphs After Algorithms"
   ]
  },
  {
   "cell_type": "code",
   "execution_count": null,
   "metadata": {},
   "outputs": [],
   "source": [
    "# PRINT GRAPH\n",
    "nx.draw(graph3, node_color=nx.get_node_attributes(graph3, 'color').values(), with_labels=True)"
   ]
  }
 ],
 "metadata": {
  "kernelspec": {
   "display_name": "Python 3.9.12 ('608')",
   "language": "python",
   "name": "python3"
  },
  "language_info": {
   "codemirror_mode": {
    "name": "ipython",
    "version": 3
   },
   "file_extension": ".py",
   "mimetype": "text/x-python",
   "name": "python",
   "nbconvert_exporter": "python",
   "pygments_lexer": "ipython3",
   "version": "3.9.12"
  },
  "orig_nbformat": 4,
  "vscode": {
   "interpreter": {
    "hash": "f17bcf7f59724cce155342705891b8c018a0c59f3df19fb5a215bb148dd2d46b"
   }
  }
 },
 "nbformat": 4,
 "nbformat_minor": 2
}
