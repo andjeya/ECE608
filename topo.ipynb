{
 "cells": [
  {
   "cell_type": "code",
   "execution_count": null,
   "metadata": {},
   "outputs": [],
   "source": [
    "import networkx as nx\n",
    "import matplotlib.pyplot as plt"
   ]
  },
  {
   "cell_type": "code",
   "execution_count": null,
   "metadata": {},
   "outputs": [],
   "source": [
    "# set graph parameters\n",
    "numNodes = 15\n",
    "degree = 1\n",
    "#make graphs\n",
    "graph1 = nx.complete_graph(5)\n",
    "#graph2 = random_regular_graph(degree, numNodes, seed=None)\n",
    "graph3 = nx.gn_graph(numNodes, None, None, 0)\n",
    "#print graphs\n",
    "nx.draw(graph3, with_labels=True)\n",
    "#nx.draw_networkx(graph1, with_labels=True,)"
   ]
  }
 ],
 "metadata": {
  "kernelspec": {
   "display_name": "Python 3.9.12 ('608')",
   "language": "python",
   "name": "python3"
  },
  "language_info": {
   "codemirror_mode": {
    "name": "ipython",
    "version": 3
   },
   "file_extension": ".py",
   "mimetype": "text/x-python",
   "name": "python",
   "nbconvert_exporter": "python",
   "pygments_lexer": "ipython3",
   "version": "3.9.12"
  },
  "orig_nbformat": 4,
  "vscode": {
   "interpreter": {
    "hash": "f17bcf7f59724cce155342705891b8c018a0c59f3df19fb5a215bb148dd2d46b"
   }
  }
 },
 "nbformat": 4,
 "nbformat_minor": 2
}
