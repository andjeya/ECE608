{
 "cells": [
  {
   "cell_type": "markdown",
   "metadata": {},
   "source": [
    "Imports and User Defined Functions"
   ]
  },
  {
   "cell_type": "code",
   "execution_count": null,
   "metadata": {},
   "outputs": [],
   "source": [
    "import networkx as nx\n",
    "import matplotlib.pyplot as plt\n",
    "\n",
    "def dfs-visit(u)"
   ]
  },
  {
   "cell_type": "markdown",
   "metadata": {},
   "source": [
    "Make Graphs"
   ]
  },
  {
   "cell_type": "code",
   "execution_count": null,
   "metadata": {},
   "outputs": [],
   "source": [
    "# set graph parameters\n",
    "numNodes = 15\n",
    "degree = 1   \n",
    "#make graphs\n",
    "graph1 = nx.complete_graph(5)\n",
    "#graph2 = random_regular_graph(degree, numNodes, seed=None)\n",
    "graph3 = nx.gn_graph(numNodes, None, None, 0)\n",
    "# deal with color\n",
    "color_map3 = []\n",
    "visited3 = []\n",
    "for node in graph3:\n",
    "    color_map3.append('tab:blue')\n",
    "    visited3.append(-1)\n",
    "    #if node < 10:\n",
    "    #    color_map.append('blue')\n",
    "    #else: \n",
    "    #    color_map.append('green')   \n",
    "#print graphs\n",
    "nx.draw(graph3, node_color=color_map3, with_labels=True)\n",
    "#nx.draw_networkx(graph1, with_labels=True,)"
   ]
  },
  {
   "cell_type": "markdown",
   "metadata": {},
   "source": [
    "Run Algorithms"
   ]
  },
  {
   "cell_type": "code",
   "execution_count": null,
   "metadata": {},
   "outputs": [],
   "source": [
    "print(graph3.edges)\n",
    "# page 53 ln6\n",
    "# an algorithm for topological sort\n",
    "# call DFS(G) to compute finishing times f[v] for each vertex v\n",
    "# as each vertex is finished, insert it onto the front of a linked list\n",
    "# return the linked list of vertices\n",
    "for node in graph3.nodes:\n",
    "    if(color_map3[node]=='tab:blue'): # means we didn't visit it before\n",
    "        #DFS-Visit(node)\n",
    "        print(\"yeah!\" + str(node))\n",
    "    #print(node)\n",
    "    #print(graph3.edges)"
   ]
  }
 ],
 "metadata": {
  "kernelspec": {
   "display_name": "Python 3.9.12 ('608')",
   "language": "python",
   "name": "python3"
  },
  "language_info": {
   "codemirror_mode": {
    "name": "ipython",
    "version": 3
   },
   "file_extension": ".py",
   "mimetype": "text/x-python",
   "name": "python",
   "nbconvert_exporter": "python",
   "pygments_lexer": "ipython3",
   "version": "3.9.12"
  },
  "orig_nbformat": 4,
  "vscode": {
   "interpreter": {
    "hash": "f17bcf7f59724cce155342705891b8c018a0c59f3df19fb5a215bb148dd2d46b"
   }
  }
 },
 "nbformat": 4,
 "nbformat_minor": 2
}
