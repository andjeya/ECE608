{
 "cells": [
  {
   "cell_type": "code",
   "execution_count": null,
   "metadata": {},
   "outputs": [],
   "source": [
    "import networkx as nx\n",
    "import matplotlib.pyplot as plt\n",
    "import random\n",
    "\n"
   ]
  },
  {
   "cell_type": "markdown",
   "metadata": {},
   "source": [
    "Make Graphs"
   ]
  },
  {
   "cell_type": "code",
   "execution_count": null,
   "metadata": {},
   "outputs": [],
   "source": [
    "# SET GRAPH PARAMETERS\n",
    "numNodes = 15\n",
    "degree = 1   \n",
    "\n",
    "# MAKE GRAPHS\n",
    "graph1 = nx.complete_graph(5)\n",
    "#graph2 = random_regular_graph(degree, numNodes, seed=None)\n",
    "graph3 = nx.gn_graph(numNodes, None, None, 0)\n",
    "\n",
    "# INITIALIZE PARAMETERS\n",
    "# about the colors: blue == not visited, red == visiting, not all edges yet considered, green == visted, all edges visited.\n",
    "# color (also used as visited. blue == not visited, red == visited)\n",
    "color_map3 = [\"tab:blue\"]*len(graph3.nodes)\n",
    "nx.set_node_attributes(graph3, dict(zip(graph3.nodes(), color_map3)), \"color\") # for each node, set attribute color to the value in the color map\n",
    "# distance (node distance from initial vertex)\n",
    "distance_map3 = [None]*len(graph3.nodes)\n",
    "nx.set_node_attributes(graph3, dict(zip(graph3.nodes(), distance_map3)), \"dist\") \n",
    "# previous (the node we came from before to access current node)\n",
    "previous_map3 = [None]*len(graph3.nodes)\n",
    "nx.set_node_attributes(graph3, dict(zip(graph3.nodes(), previous_map3)), \"prev\") \n",
    "# last touch (the time node is left for the last time)\n",
    "last_touch_map3 = [None]*len(graph3.nodes)\n",
    "nx.set_node_attributes(graph3, dict(zip(graph3.nodes(), last_touch_map3)), \"last_touch\") \n",
    "\n",
    "# PRINT GRAPH\n",
    "nx.draw(graph3, node_color=nx.get_node_attributes(graph3, 'color').values(), with_labels=True)\n"
   ]
  },
  {
   "cell_type": "markdown",
   "metadata": {},
   "source": [
    "Run Algorithms"
   ]
  },
  {
   "cell_type": "code",
   "execution_count": null,
   "metadata": {},
   "outputs": [],
   "source": [
    "print(\"before dfsvisit\")\n",
    "nx.draw(graph3, node_color=nx.get_node_attributes(graph3, 'color').values(), with_labels=True)"
   ]
  },
  {
   "cell_type": "code",
   "execution_count": null,
   "metadata": {},
   "outputs": [],
   "source": [
    "# page 53 ln6\n",
    "# an algorithm for topological sort\n",
    "# call DFS(G) to compute finishing times f[v] for each vertex v\n",
    "# as each vertex is finished, insert it onto the front of a linked list\n",
    "# return the linked list of vertices\n",
    "ct = 0\n",
    "time = 0\n",
    "def dfsVisit(node, graph, time, topoList):\n",
    "    time = time + 1\n",
    "    nx.set_node_attributes(graph, {node:\"tab:red\"}, \"color\")\n",
    "    nx.set_node_attributes(graph, {node:time}, \"dist\")\n",
    "    print(\"node \" + str(node) + \" distance \" + str(time))\n",
    "    for subnode in graph3.successors(node):\n",
    "        if(nx.get_node_attributes(graph3, 'color')[subnode]=='tab:blue'): # means we didn't visit the child before\n",
    "            #print(subnode)\n",
    "            nx.set_node_attributes(graph, {subnode:node}, \"prev\")\n",
    "            topoList, nodeUnused, time = dfsVisit(subnode, graph, time, topoList)\n",
    "    nx.set_node_attributes(graph, {node:\"tab:green\"}, \"color\") # at this point we have considered all edges\n",
    "    time = time + 1\n",
    "    print(\"node \" + str(node) + \" last touch \" + str(time))\n",
    "    nx.set_node_attributes(graph, {node:time}, \"last_touch\") # at this point we have considered all edges\n",
    "    topoList.append(node)\n",
    "    return topoList, node, time\n",
    "    #print(\"dfsVisit \" + str(node))\n",
    "    #print(graph3)\n",
    "    #print(graph3.successors)\n",
    "\n",
    "#dfsVisit(11, graph3, time)\n",
    "#print(\"after dfsvisit\")\n",
    "print(\"Type \" + str(type(list(graph3.nodes))))\n",
    "randomizedGraph3Nodes = list(graph3.nodes)\n",
    "random.shuffle(randomizedGraph3Nodes)\n",
    "print(randomizedGraph3Nodes)\n",
    "topoList = []\n",
    "for node in randomizedGraph3Nodes:\n",
    "    print(\"mynode \" + str(node))\n",
    "    #ct = ct+1\n",
    "    if not (nx.get_node_attributes(graph3, 'color')[node]=='tab:green'): # means we didn't visit it before\n",
    "        print(node)\n",
    "        #if ct < 15:\n",
    "        topoList, nodeUnused, time = dfsVisit(node, graph3, time, topoList)\n",
    "        print(\"time in dfsVisit. Node: \" + str(node) + \" Time: \" + str(time))\n",
    "        # print(\"yeah!\" + str(node))\n",
    "#    #print(node)\n",
    "#    #print(graph3.edges)\n",
    "print(\"randomized graph nodes = \" + str(print(randomizedGraph3Nodes)))\n",
    "print(\"topo list = \" + str(topoList))\n",
    "nx.draw(graph3, node_color=nx.get_node_attributes(graph3, 'color').values(), with_labels=True)\n"
   ]
  },
  {
   "cell_type": "markdown",
   "metadata": {},
   "source": [
    "Print Graphs After Algorithms"
   ]
  },
  {
   "cell_type": "code",
   "execution_count": null,
   "metadata": {},
   "outputs": [],
   "source": [
    "# PRINT GRAPH\n",
    "nx.draw(graph3, node_color=nx.get_node_attributes(graph3, 'color').values(), with_labels=True)"
   ]
  }
 ],
 "metadata": {
  "kernelspec": {
   "display_name": "Python 3.9.12 ('608')",
   "language": "python",
   "name": "python3"
  },
  "language_info": {
   "codemirror_mode": {
    "name": "ipython",
    "version": 3
   },
   "file_extension": ".py",
   "mimetype": "text/x-python",
   "name": "python",
   "nbconvert_exporter": "python",
   "pygments_lexer": "ipython3",
   "version": "3.9.12"
  },
  "orig_nbformat": 4,
  "vscode": {
   "interpreter": {
    "hash": "f17bcf7f59724cce155342705891b8c018a0c59f3df19fb5a215bb148dd2d46b"
   }
  }
 },
 "nbformat": 4,
 "nbformat_minor": 2
}
