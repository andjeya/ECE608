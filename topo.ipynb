{
 "cells": [
  {
   "cell_type": "code",
   "execution_count": null,
   "metadata": {},
   "outputs": [],
   "source": [
    "import networkx as nx\n",
    "import matplotlib.pyplot as plt\n",
    "import random\n",
    "import netgraph\n",
    "import copy\n",
    "import time"
   ]
  },
  {
   "cell_type": "markdown",
   "metadata": {},
   "source": [
    "Make Graph"
   ]
  },
  {
   "cell_type": "code",
   "execution_count": null,
   "metadata": {},
   "outputs": [],
   "source": [
    "# SET GRAPH PARAMETERS\n",
    "#numNodes = 15\n",
    "#degree = 1   \n",
    "\n",
    "def genGraph(numNodes, graphType):\n",
    "    # MAKE GRAPHS\n",
    "    if(graphType == 'gn_graph'):\n",
    "        generatedGraph = nx.gn_graph(numNodes, None, None, 0)\n",
    "    if(graphType == 'complete_graph'):\n",
    "        generatedGraph = nx.complete_graph(5)\n",
    "    if(graphType == 'random_regular_graph'):\n",
    "        generatedGraph = nx.random_regular_graph(2, numNodes, seed=None)\n",
    "\n",
    "    \n",
    "\n",
    "    # INITIALIZE PARAMETERS\n",
    "    # COLOR (also used as visited. blue == not visited, red == visiting, not all edges yet considered, green == visted, all edges visited.)\n",
    "    color_map3 = [\"tab:blue\"]*len(generatedGraph.nodes)\n",
    "    nx.set_node_attributes(generatedGraph, dict(zip(generatedGraph.nodes(), color_map3)), \"color\") # for each node, set attribute color to the value in the color map\n",
    "    # DISTANCE (inaccurate and unused. theoretically node distance from initial vertex)\n",
    "    distance_map3 = [None]*len(generatedGraph.nodes)\n",
    "    nx.set_node_attributes(generatedGraph, dict(zip(generatedGraph.nodes(), distance_map3)), \"dist\") \n",
    "    # PREVIOUS (the node we came from before to access current node)\n",
    "    previous_map3 = [None]*len(generatedGraph.nodes)\n",
    "    nx.set_node_attributes(generatedGraph, dict(zip(generatedGraph.nodes(), previous_map3)), \"prev\") \n",
    "    # LAST TOUCH (the timestep node is left for the last time)\n",
    "    last_touch_map3 = [None]*len(generatedGraph.nodes)\n",
    "    nx.set_node_attributes(generatedGraph, dict(zip(generatedGraph.nodes(), last_touch_map3)), \"last_touch\") \n",
    "\n",
    "    return generatedGraph\n",
    "    "
   ]
  },
  {
   "cell_type": "markdown",
   "metadata": {},
   "source": [
    "Print Generated Graph"
   ]
  },
  {
   "cell_type": "code",
   "execution_count": null,
   "metadata": {},
   "outputs": [],
   "source": [
    "# PRINT GRAPH\n",
    "#nx.draw(dfsGraph, node_color=nx.get_node_attributes(dfsGraph, 'color').values(), with_labels=True)"
   ]
  },
  {
   "cell_type": "markdown",
   "metadata": {},
   "source": [
    "Run DFS Topological Sort"
   ]
  },
  {
   "cell_type": "code",
   "execution_count": null,
   "metadata": {},
   "outputs": [],
   "source": [
    "# page 53 ln6\n",
    "# an algorithm for topological sort\n",
    "# call DFS(G) to compute finishing times f[v] for each vertex v\n",
    "# as each vertex is finished, insert it onto the front of a linked list\n",
    "# return the linked list of vertices\n",
    "\n",
    "# FUNCTION FOR DFS VISITING\n",
    "def dfsVisit(node, graph, timestep, topoList):\n",
    "    timestep = timestep + 1\n",
    "    nx.set_node_attributes(graph, {node:\"tab:red\"}, \"color\")\n",
    "    nx.set_node_attributes(graph, {node:timestep}, \"dist\")\n",
    "    for subnode in graph.successors(node):\n",
    "        if(nx.get_node_attributes(graph, 'color')[subnode]=='tab:blue'): # means we didn't visit the child before\n",
    "            nx.set_node_attributes(graph, {subnode:node}, \"prev\")\n",
    "            topoList, nodeUnused, timestep = dfsVisit(subnode, graph, timestep, topoList)\n",
    "    nx.set_node_attributes(graph, {node:\"tab:green\"}, \"color\") # at this point we have considered all edges\n",
    "    timestep = timestep + 1\n",
    "    nx.set_node_attributes(graph, {node:timestep}, \"last_touch\") # at this point we have considered all edges\n",
    "    topoList.append(node)\n",
    "    return topoList, node, timestep\n",
    "\n",
    "\n",
    "# RUN DFS TOPOLOGICAL SORT\n",
    "def dfsTopo(dfsGraph, displayGraph):\n",
    "    timestep = 0\n",
    "    # randomize the list of nodes in the graph before looping through them. This reduces the likelyhood of simply traversing the graph from the bottom up, making toposort less interesting\n",
    "    randomizedDFSGraphNodes = list(dfsGraph.nodes)\n",
    "    random.shuffle(randomizedDFSGraphNodes) # our randomized list of all nodes in the graph\n",
    "    topoList = [] # will store our topological order of visited nodes\n",
    "    # BEGIN TIMING\n",
    "    dfst0 = time.time()\n",
    "    for node in randomizedDFSGraphNodes: # page 53 lecture note 6\n",
    "        if not (nx.get_node_attributes(dfsGraph, 'color')[node]=='tab:green'): # means we didn't visit it before\n",
    "            topoList, nodeUnused, timestep = dfsVisit(node, dfsGraph, timestep, topoList) # run DFS starting from this node, record topological ordering\n",
    "    # END TIMING\n",
    "    dfst1 = time.time()\n",
    "    dfs_runtime = dfst1-dfst0\n",
    "    \n",
    "    # PRINT TOPOLOGICALLY SORTED GRAPH\n",
    "    if(displayGraph==True):\n",
    "        # the two dictionaries must each have identical keys before new dictionary creation below\n",
    "        assert(nx.get_node_attributes(dfsGraph, 'last_touch').keys() <= nx.get_node_attributes(dfsGraph, 'prev').keys()) \n",
    "        # make node labels including topological sort\n",
    "        nodeLabelsDictionary = {} # node, previous, last touch\n",
    "        for key in nx.get_node_attributes(dfsGraph, 'last_touch'):\n",
    "            prev = nx.get_node_attributes(dfsGraph, 'prev')[key]\n",
    "            last = nx.get_node_attributes(dfsGraph, 'last_touch')[key]\n",
    "            nodeLabelsDictionary[key] = \"N:\" + str(key) + \"\\nP:\" + str(prev) + \"\\nF:\" + str(last)\n",
    "        #print(\"Node labels dictionary = \" + str(nodeLabelsDictionary))\n",
    "        # draw simple graph\n",
    "        nx.draw(dfsGraph, node_color=nx.get_node_attributes(dfsGraph, 'color').values(), with_labels=True)\n",
    "        # draw graph with more complex labels\n",
    "        #nx.draw(dfsGraph, node_color=nx.get_node_attributes(dfsGraph, 'color').values(), labels = nodeLabelsDictionary, with_labels=True)\n",
    "    return dfs_runtime, topoList"
   ]
  },
  {
   "cell_type": "markdown",
   "metadata": {},
   "source": [
    "Generate Graphs, run DFS and BFS topo sort"
   ]
  },
  {
   "cell_type": "code",
   "execution_count": 630,
   "metadata": {},
   "outputs": [
    {
     "name": "stdout",
     "output_type": "stream",
     "text": [
      "Generating and runing graph for node size 10\n",
      "Generating and runing graph for node size 30\n",
      "Generating and runing graph for node size 50\n",
      "Generating and runing graph for node size 70\n",
      "Generating and runing graph for node size 90\n",
      "Generating and runing graph for node size 110\n",
      "Generating and runing graph for node size 130\n",
      "Generating and runing graph for node size 150\n",
      "Generating and runing graph for node size 170\n",
      "Generating and runing graph for node size 190\n",
      "Generating and runing graph for node size 210\n",
      "Generating and runing graph for node size 230\n",
      "Generating and runing graph for node size 250\n",
      "Generating and runing graph for node size 270\n",
      "Generating and runing graph for node size 290\n",
      "Generating and runing graph for node size 310\n",
      "Generating and runing graph for node size 330\n",
      "Generating and runing graph for node size 350\n",
      "Generating and runing graph for node size 370\n",
      "Generating and runing graph for node size 390\n",
      "Generating and runing graph for node size 410\n",
      "Generating and runing graph for node size 430\n",
      "Generating and runing graph for node size 450\n",
      "Generating and runing graph for node size 470\n",
      "Generating and runing graph for node size 490\n",
      "Generating and runing graph for node size 510\n",
      "Generating and runing graph for node size 530\n",
      "Generating and runing graph for node size 550\n",
      "Generating and runing graph for node size 570\n",
      "Generating and runing graph for node size 590\n",
      "Generating and runing graph for node size 610\n",
      "Generating and runing graph for node size 630\n",
      "Generating and runing graph for node size 650\n",
      "Generating and runing graph for node size 670\n",
      "Generating and runing graph for node size 690\n",
      "Generating and runing graph for node size 710\n",
      "Generating and runing graph for node size 730\n",
      "Generating and runing graph for node size 750\n",
      "Generating and runing graph for node size 770\n",
      "Generating and runing graph for node size 790\n",
      "Generating and runing graph for node size 810\n",
      "Generating and runing graph for node size 830\n",
      "Generating and runing graph for node size 850\n",
      "Generating and runing graph for node size 870\n",
      "Generating and runing graph for node size 890\n",
      "Generating and runing graph for node size 910\n",
      "Generating and runing graph for node size 930\n",
      "Generating and runing graph for node size 950\n",
      "Generating and runing graph for node size 970\n",
      "Generating and runing graph for node size 990\n",
      "Generating and runing graph for node size 1010\n",
      "Generating and runing graph for node size 1030\n",
      "Generating and runing graph for node size 1050\n",
      "Generating and runing graph for node size 1070\n",
      "Generating and runing graph for node size 1090\n",
      "Generating and runing graph for node size 1110\n",
      "Generating and runing graph for node size 1130\n",
      "Generating and runing graph for node size 1150\n",
      "Generating and runing graph for node size 1170\n",
      "Generating and runing graph for node size 1190\n",
      "Generating and runing graph for node size 1210\n",
      "Generating and runing graph for node size 1230\n",
      "Generating and runing graph for node size 1250\n",
      "Generating and runing graph for node size 1270\n",
      "Generating and runing graph for node size 1290\n",
      "Generating and runing graph for node size 1310\n",
      "Generating and runing graph for node size 1330\n",
      "Generating and runing graph for node size 1350\n",
      "Generating and runing graph for node size 1370\n",
      "Generating and runing graph for node size 1390\n",
      "Generating and runing graph for node size 1410\n",
      "Generating and runing graph for node size 1430\n",
      "Generating and runing graph for node size 1450\n",
      "Generating and runing graph for node size 1470\n",
      "Generating and runing graph for node size 1490\n",
      "Generating and runing graph for node size 1510\n",
      "Generating and runing graph for node size 1530\n",
      "Generating and runing graph for node size 1550\n",
      "Generating and runing graph for node size 1570\n",
      "Generating and runing graph for node size 1590\n",
      "Generating and runing graph for node size 1610\n",
      "Generating and runing graph for node size 1630\n",
      "Generating and runing graph for node size 1650\n",
      "Generating and runing graph for node size 1670\n",
      "Generating and runing graph for node size 1690\n",
      "Generating and runing graph for node size 1710\n",
      "Generating and runing graph for node size 1730\n",
      "Generating and runing graph for node size 1750\n",
      "Generating and runing graph for node size 1770\n",
      "Generating and runing graph for node size 1790\n",
      "Generating and runing graph for node size 1810\n",
      "Generating and runing graph for node size 1830\n",
      "Generating and runing graph for node size 1850\n",
      "Generating and runing graph for node size 1870\n",
      "Generating and runing graph for node size 1890\n",
      "Generating and runing graph for node size 1910\n",
      "Generating and runing graph for node size 1930\n",
      "Generating and runing graph for node size 1950\n",
      "Generating and runing graph for node size 1970\n",
      "Generating and runing graph for node size 1990\n",
      "Generating and runing graph for node size 2010\n",
      "Generating and runing graph for node size 2030\n",
      "Generating and runing graph for node size 2050\n",
      "Generating and runing graph for node size 2070\n",
      "Generating and runing graph for node size 2090\n",
      "Generating and runing graph for node size 2110\n",
      "Generating and runing graph for node size 2130\n",
      "Generating and runing graph for node size 2150\n",
      "Generating and runing graph for node size 2170\n",
      "Generating and runing graph for node size 2190\n",
      "Generating and runing graph for node size 2210\n",
      "Generating and runing graph for node size 2230\n",
      "Generating and runing graph for node size 2250\n",
      "Generating and runing graph for node size 2270\n",
      "Generating and runing graph for node size 2290\n",
      "Generating and runing graph for node size 2310\n",
      "Generating and runing graph for node size 2330\n",
      "Generating and runing graph for node size 2350\n",
      "Generating and runing graph for node size 2370\n",
      "Generating and runing graph for node size 2390\n",
      "Generating and runing graph for node size 2410\n",
      "Generating and runing graph for node size 2430\n",
      "Generating and runing graph for node size 2450\n",
      "Generating and runing graph for node size 2470\n",
      "Generating and runing graph for node size 2490\n",
      "Runtime = [0.0003104209899902344, 0.007977962493896484, 0.015357255935668945, 0.014673709869384766, 0.028093576431274414, 0.03073430061340332, 0.04639554023742676, 0.032706260681152344, 0.03704190254211426, 0.05232691764831543, 0.03911542892456055, 0.04747319221496582, 0.05429697036743164, 0.05543875694274902, 0.06602072715759277, 0.11436724662780762, 0.14542722702026367, 0.0961458683013916, 0.12222456932067871, 0.17650604248046875, 0.1681973934173584, 0.1667795181274414, 0.2116389274597168, 0.2740485668182373, 0.17827343940734863, 0.23394227027893066, 0.2166609764099121, 0.25562477111816406, 0.27988505363464355, 0.2689225673675537, 0.3067328929901123, 0.29976463317871094, 0.3747684955596924, 0.33411598205566406, 0.3693714141845703, 0.4085402488708496, 0.7380003929138184, 0.4361298084259033, 0.4495258331298828, 0.48090410232543945, 0.49250149726867676, 0.5826787948608398, 0.5577573776245117, 0.5680253505706787, 0.6715090274810791, 0.6297338008880615, 0.6550273895263672, 0.6741373538970947, 0.7330858707427979, 0.7978944778442383, 0.7913720607757568, 0.7957184314727783, 0.9168140888214111, 0.8873965740203857, 0.8864283561706543, 0.9863753318786621, 0.954232931137085, 0.995166540145874, 0.988591194152832, 1.0997462272644043, 1.1328794956207275, 1.1184735298156738, 1.1427655220031738, 1.299497365951538, 1.3369593620300293, 1.3482532501220703, 1.3628439903259277, 1.4222636222839355, 1.413679838180542, 1.4957280158996582, 1.494882345199585, 1.512411117553711, 1.8608477115631104, 1.7277255058288574, 1.7646679878234863, 1.729940414428711, 1.776341199874878, 1.8610551357269287, 1.8536677360534668, 2.538696527481079, 2.3722102642059326, 2.4606058597564697, 3.0978713035583496, 2.180030584335327, 3.026146173477173, 2.588902473449707, 2.7043583393096924, 3.636911153793335, 3.772036075592041, 3.9235589504241943, 5.427570819854736, 3.985804557800293, 4.234488010406494, 3.977804183959961, 3.6968414783477783, 3.1015689373016357, 3.2634360790252686, 3.7536754608154297, 4.400837659835815, 4.752328872680664, 5.471676588058472, 4.568070650100708, 6.375720739364624, 8.663763046264648, 4.146555423736572, 4.348129987716675, 4.950618267059326, 6.9680211544036865, 5.724656820297241, 5.943706035614014, 4.777112007141113, 6.560020446777344, 7.276857137680054, 11.583596229553223, 5.399374008178711, 8.146013975143433, 7.010969161987305, 5.177163124084473, 6.981216669082642, 8.979004383087158, 7.964597463607788, 8.7424898147583, 8.518922090530396, 7.936156272888184, 5.469926595687866]\n"
     ]
    }
   ],
   "source": [
    "# GENERATE GRAPHS\n",
    "#graph3 = genGraph(15000, 'gn_graph')\n",
    "nodeSizes = list(range(10, 2500, 20))\n",
    "dfs_runtime_list = []\n",
    "# MAKE COPIES OF THE GRAPH\n",
    "for k in nodeSizes: # start stop step should be \n",
    "    print(\"Generating and runing graph for node size \" + str(k))\n",
    "    graph3 = genGraph(k, 'gn_graph')\n",
    "    dfsGraph = copy.deepcopy(graph3) # copy of the graph for dfs topological sort algorithm\n",
    "    bfsGraph = copy.deepcopy(graph3) # copy of the graph for bfs topological sort algorithm \n",
    "    # RUN DFS TOPO SORT\n",
    "    dfs_runtime, DFS_topo_list = dfsTopo(dfsGraph, False)\n",
    "    dfs_runtime_list.append(dfs_runtime)\n",
    "\n",
    "# PRINT DFS TOPO LIST\n",
    "#print(\"DFS topo list = \" + str(DFS_topo_list))\n",
    "print(\"Runtime = \" + str(dfs_runtime_list))"
   ]
  },
  {
   "cell_type": "markdown",
   "metadata": {},
   "source": [
    "Make Time Graphs After Algorithms"
   ]
  },
  {
   "cell_type": "code",
   "execution_count": 631,
   "metadata": {},
   "outputs": [
    {
     "data": {
      "image/png": "[encoded data removed]",
      "text/plain": [
       "<Figure size 432x288 with 1 Axes>"
      ]
     },
     "metadata": {
      "needs_background": "light"
     },
     "output_type": "display_data"
    }
   ],
   "source": [
    "# PRINT GRAPH\n",
    "#nx.draw(graph3, node_color=nx.get_node_attributes(graph3, 'color').values(), with_labels=True)\n",
    "plt.plot(nodeSizes, dfs_runtime_list, 'o')\n",
    "plt.xlabel(\"Node Size\")\n",
    "plt.ylabel(\"Runtime (seconds)\")\n",
    "plt.title(\"Runtime vs Node Size for DFS Topological Sort\")\n",
    "plt.show()"
   ]
  }
 ],
 "metadata": {
  "kernelspec": {
   "display_name": "Python 3.9.12 ('608')",
   "language": "python",
   "name": "python3"
  },
  "language_info": {
   "codemirror_mode": {
    "name": "ipython",
    "version": 3
   },
   "file_extension": ".py",
   "mimetype": "text/x-python",
   "name": "python",
   "nbconvert_exporter": "python",
   "pygments_lexer": "ipython3",
   "version": "3.9.12"
  },
  "orig_nbformat": 4,
  "vscode": {
   "interpreter": {
    "hash": "f17bcf7f59724cce155342705891b8c018a0c59f3df19fb5a215bb148dd2d46b"
   }
  }
 },
 "nbformat": 4,
 "nbformat_minor": 2
}
