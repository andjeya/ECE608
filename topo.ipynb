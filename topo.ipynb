{
 "cells": [
  {
   "cell_type": "code",
   "execution_count": 1,
   "metadata": {},
   "outputs": [],
   "source": [
    "import networkx as nx\n",
    "import matplotlib.pyplot as plt\n",
    "import random\n",
    "import netgraph\n",
    "import copy\n",
    "import time"
   ]
  },
  {
   "cell_type": "markdown",
   "metadata": {},
   "source": [
    "Make Graph"
   ]
  },
  {
   "cell_type": "code",
   "execution_count": 2,
   "metadata": {},
   "outputs": [],
   "source": [
    "# SET GRAPH PARAMETERS\n",
    "#numNodes = 15\n",
    "#degree = 1   \n",
    "\n",
    "def genGraph(numNodes, graphType):\n",
    "    # MAKE GRAPHS\n",
    "    if(graphType == 'gn_graph'):\n",
    "        generatedGraph = nx.gn_graph(numNodes, None, None, 0)\n",
    "    if(graphType == 'complete_graph'):\n",
    "        generatedGraph = nx.complete_graph(5)\n",
    "    if(graphType == 'random_regular_graph'):\n",
    "        generatedGraph = nx.random_regular_graph(2, numNodes, seed=None)\n",
    "\n",
    "    \n",
    "\n",
    "    # INITIALIZE PARAMETERS\n",
    "    # COLOR (also used as visited. blue == not visited, red == visiting, not all edges yet considered, green == visted, all edges visited.)\n",
    "    color_map3 = [\"tab:blue\"]*len(generatedGraph.nodes)\n",
    "    nx.set_node_attributes(generatedGraph, dict(zip(generatedGraph.nodes(), color_map3)), \"color\") # for each node, set attribute color to the value in the color map\n",
    "    # DISTANCE (inaccurate and unused. theoretically node distance from initial vertex)\n",
    "    distance_map3 = [None]*len(generatedGraph.nodes)\n",
    "    nx.set_node_attributes(generatedGraph, dict(zip(generatedGraph.nodes(), distance_map3)), \"dist\") \n",
    "    # PREVIOUS (the node we came from before to access current node)\n",
    "    previous_map3 = [None]*len(generatedGraph.nodes)\n",
    "    nx.set_node_attributes(generatedGraph, dict(zip(generatedGraph.nodes(), previous_map3)), \"prev\") \n",
    "    # LAST TOUCH (the timestep node is left for the last time)\n",
    "    last_touch_map3 = [None]*len(generatedGraph.nodes)\n",
    "    nx.set_node_attributes(generatedGraph, dict(zip(generatedGraph.nodes(), last_touch_map3)), \"last_touch\") \n",
    "\n",
    "    return generatedGraph\n",
    "    "
   ]
  },
  {
   "cell_type": "markdown",
   "metadata": {},
   "source": [
    "Print Generated Graph"
   ]
  },
  {
   "cell_type": "code",
   "execution_count": 3,
   "metadata": {},
   "outputs": [],
   "source": [
    "# PRINT GRAPH\n",
    "#nx.draw(dfsGraph, node_color=nx.get_node_attributes(dfsGraph, 'color').values(), with_labels=True)"
   ]
  },
  {
   "cell_type": "markdown",
   "metadata": {},
   "source": [
    "Implementation of DFS Topological Sort"
   ]
  },
  {
   "cell_type": "code",
   "execution_count": 4,
   "metadata": {},
   "outputs": [],
   "source": [
    "# page 53 ln6\n",
    "# an algorithm for topological sort\n",
    "# call DFS(G) to compute finishing times f[v] for each vertex v\n",
    "# as each vertex is finished, insert it onto the front of a linked list\n",
    "# return the linked list of vertices\n",
    "\n",
    "# FUNCTION FOR DFS VISITING\n",
    "def dfsVisit(node, graph, timestep, topoList):\n",
    "    timestep = timestep + 1\n",
    "    nx.set_node_attributes(graph, {node:\"tab:red\"}, \"color\")\n",
    "    nx.set_node_attributes(graph, {node:timestep}, \"dist\")\n",
    "    for subnode in graph.successors(node):\n",
    "        if(nx.get_node_attributes(graph, 'color')[subnode]=='tab:blue'): # means we didn't visit the child before\n",
    "            nx.set_node_attributes(graph, {subnode:node}, \"prev\")\n",
    "            topoList, nodeUnused, timestep = dfsVisit(subnode, graph, timestep, topoList)\n",
    "    nx.set_node_attributes(graph, {node:\"tab:green\"}, \"color\") # at this point we have considered all edges\n",
    "    timestep = timestep + 1\n",
    "    nx.set_node_attributes(graph, {node:timestep}, \"last_touch\") # at this point we have considered all edges\n",
    "    topoList.append(node)\n",
    "    return topoList, node, timestep\n",
    "\n",
    "\n",
    "# RUN DFS TOPOLOGICAL SORT\n",
    "def dfsTopo(dfsGraph, displayGraph):\n",
    "    timestep = 0\n",
    "    # randomize the list of nodes in the graph before looping through them. This reduces the likelyhood of simply traversing the graph from the bottom up, making toposort less interesting\n",
    "    randomizedDFSGraphNodes = list(dfsGraph.nodes)\n",
    "    random.shuffle(randomizedDFSGraphNodes) # our randomized list of all nodes in the graph\n",
    "    topoList = [] # will store our topological order of visited nodes\n",
    "    # BEGIN TIMING\n",
    "    dfst0 = time.time()\n",
    "    for node in randomizedDFSGraphNodes: # page 53 lecture note 6\n",
    "        if not (nx.get_node_attributes(dfsGraph, 'color')[node]=='tab:green'): # means we didn't visit it before\n",
    "            topoList, nodeUnused, timestep = dfsVisit(node, dfsGraph, timestep, topoList) # run DFS starting from this node, record topological ordering\n",
    "    # END TIMING\n",
    "    dfst1 = time.time()\n",
    "    dfs_runtime = dfst1-dfst0\n",
    "    \n",
    "    # PRINT TOPOLOGICALLY SORTED GRAPH\n",
    "    if(displayGraph==True):\n",
    "        # the two dictionaries must each have identical keys before new dictionary creation below\n",
    "        assert(nx.get_node_attributes(dfsGraph, 'last_touch').keys() <= nx.get_node_attributes(dfsGraph, 'prev').keys()) \n",
    "        # make node labels including topological sort\n",
    "        nodeLabelsDictionary = {} # node, previous, last touch\n",
    "        for key in nx.get_node_attributes(dfsGraph, 'last_touch'):\n",
    "            prev = nx.get_node_attributes(dfsGraph, 'prev')[key]\n",
    "            last = nx.get_node_attributes(dfsGraph, 'last_touch')[key]\n",
    "            nodeLabelsDictionary[key] = \"N:\" + str(key) + \"\\nP:\" + str(prev) + \"\\nF:\" + str(last)\n",
    "        #print(\"Node labels dictionary = \" + str(nodeLabelsDictionary))\n",
    "        # draw simple graph\n",
    "        nx.draw(dfsGraph, node_color=nx.get_node_attributes(dfsGraph, 'color').values(), with_labels=True)\n",
    "        # draw graph with more complex labels\n",
    "        #nx.draw(dfsGraph, node_color=nx.get_node_attributes(dfsGraph, 'color').values(), labels = nodeLabelsDictionary, with_labels=True)\n",
    "    return dfs_runtime, topoList"
   ]
  },
  {
   "cell_type": "markdown",
   "metadata": {},
   "source": [
    "Implementation of BFS Topological Sort"
   ]
  },
  {
   "cell_type": "code",
   "execution_count": 5,
   "metadata": {},
   "outputs": [],
   "source": [
    "def isEmpty(stack):\n",
    "    if not stack:\n",
    "        return True\n",
    "    else:\n",
    "        return False\n",
    "        \n",
    "# FUNCTION FOR BFS VISITING\n",
    "def bfsVisit(node, graph):\n",
    "    queue = []\n",
    "    topoList = []\n",
    "    timestep = 0\n",
    "    \n",
    "    if(nx.get_node_attributes(graph, 'color')[node]=='tab:blue'): # only add node if we haven't visited it before\n",
    "        node = node\n",
    "        #queue.append(node) # add the node to traverse to the queue\n",
    "    else: \n",
    "        node = None\n",
    "\n",
    "    while(not node == None):\n",
    "        # add all unvisted node children to queue \n",
    "        for subnode in graph.successors(node):\n",
    "            if(nx.get_node_attributes(graph, 'color')[subnode]=='tab:blue'): # means we didn't visit the child before\n",
    "                queue.append(subnode)            \n",
    "                #nx.set_node_attributes(graph, {subnode:node}, \"prev\")\n",
    "                #topoList, nodeUnused, timestep = dfsVisit(subnode, graph, timestep, topoList)\n",
    "        # mark current node as visited \n",
    "        nx.set_node_attributes(graph, {node:\"tab:green\"}, \"color\")\n",
    "        topoList.append(node)\n",
    "        #nx.set_node_attributes(graph, {node:timestep}, \"dist\")\n",
    "        nx.set_node_attributes(graph, {node:timestep}, \"last_touch\") # at this point we have considered all edges\n",
    "        timestep = timestep + 1\n",
    "        # move onto the next node\n",
    "        #temp = queue.pop(0)\n",
    "        #print(\"queue pop \" + str(temp))\n",
    "        if(isEmpty(queue)):\n",
    "            node = None\n",
    "        else:\n",
    "            node = queue.pop(0)\n",
    "            print(\"node = \" + str(node))\n",
    "\n",
    "    #nx.set_node_attributes(graph, {node:\"tab:green\"}, \"color\") # at this point we have considered all edges\n",
    "    #timestep = timestep + 1\n",
    "    \n",
    "    \n",
    "    return topoList\n",
    "#bfsVisit(2, 3, 3, 3)"
   ]
  },
  {
   "cell_type": "markdown",
   "metadata": {},
   "source": [
    "Testing BFS Topological sort"
   ]
  },
  {
   "cell_type": "code",
   "execution_count": 6,
   "metadata": {},
   "outputs": [
    {
     "name": "stdout",
     "output_type": "stream",
     "text": [
      "queue pop 3\n",
      "[11]\n"
     ]
    },
    {
     "data": {
      "image/png": "[encoded data removed]",
      "text/plain": [
       "<Figure size 432x288 with 1 Axes>"
      ]
     },
     "metadata": {},
     "output_type": "display_data"
    }
   ],
   "source": [
    "graphTest = genGraph(15, 'gn_graph')\n",
    "graphTest.add_edge(3,7)\n",
    "bfstopo = bfsVisit(11,graphTest)\n",
    "print(bfstopo)\n",
    "nx.draw(graphTest, node_color=nx.get_node_attributes(graphTest, 'color').values(), with_labels=True)"
   ]
  },
  {
   "cell_type": "markdown",
   "metadata": {},
   "source": [
    "Generate Graphs, run DFS and BFS topo sort"
   ]
  },
  {
   "cell_type": "code",
   "execution_count": 7,
   "metadata": {},
   "outputs": [
    {
     "name": "stdout",
     "output_type": "stream",
     "text": [
      "Generating and runing graph for node size 10\n",
      "Generating and runing graph for node size 30\n",
      "Generating and runing graph for node size 50\n",
      "Generating and runing graph for node size 70\n",
      "Generating and runing graph for node size 90\n",
      "Generating and runing graph for node size 110\n",
      "Generating and runing graph for node size 130\n",
      "Generating and runing graph for node size 150\n",
      "Generating and runing graph for node size 170\n",
      "Generating and runing graph for node size 190\n",
      "Generating and runing graph for node size 210\n",
      "Generating and runing graph for node size 230\n",
      "Generating and runing graph for node size 250\n",
      "Generating and runing graph for node size 270\n",
      "Generating and runing graph for node size 290\n",
      "Generating and runing graph for node size 310\n",
      "Generating and runing graph for node size 330\n",
      "Generating and runing graph for node size 350\n",
      "Generating and runing graph for node size 370\n",
      "Generating and runing graph for node size 390\n",
      "Generating and runing graph for node size 410\n",
      "Generating and runing graph for node size 430\n",
      "Generating and runing graph for node size 450\n",
      "Generating and runing graph for node size 470\n",
      "Generating and runing graph for node size 490\n",
      "Generating and runing graph for node size 510\n",
      "Generating and runing graph for node size 530\n",
      "Generating and runing graph for node size 550\n",
      "Generating and runing graph for node size 570\n",
      "Generating and runing graph for node size 590\n",
      "Generating and runing graph for node size 610\n",
      "Generating and runing graph for node size 630\n",
      "Generating and runing graph for node size 650\n",
      "Generating and runing graph for node size 670\n",
      "Generating and runing graph for node size 690\n",
      "Generating and runing graph for node size 710\n",
      "Generating and runing graph for node size 730\n",
      "Generating and runing graph for node size 750\n",
      "Generating and runing graph for node size 770\n",
      "Generating and runing graph for node size 790\n",
      "Generating and runing graph for node size 810\n",
      "Generating and runing graph for node size 830\n",
      "Generating and runing graph for node size 850\n",
      "Generating and runing graph for node size 870\n",
      "Generating and runing graph for node size 890\n",
      "Generating and runing graph for node size 910\n",
      "Generating and runing graph for node size 930\n",
      "Generating and runing graph for node size 950\n",
      "Generating and runing graph for node size 970\n",
      "Generating and runing graph for node size 990\n",
      "Generating and runing graph for node size 1010\n",
      "Generating and runing graph for node size 1030\n",
      "Generating and runing graph for node size 1050\n",
      "Generating and runing graph for node size 1070\n",
      "Generating and runing graph for node size 1090\n",
      "Generating and runing graph for node size 1110\n",
      "Generating and runing graph for node size 1130\n",
      "Generating and runing graph for node size 1150\n"
     ]
    }
   ],
   "source": [
    "# GENERATE GRAPHS\n",
    "#graph3 = genGraph(15000, 'gn_graph')\n",
    "nodeSizes = list(range(10, 2500, 20)) #10, 2500, 20\n",
    "dfs_runtime_list = []\n",
    "# MAKE COPIES OF THE GRAPH\n",
    "for k in nodeSizes: # start stop step should be \n",
    "    print(\"Generating and runing graph for node size \" + str(k))\n",
    "    graph3 = genGraph(k, 'gn_graph')\n",
    "    dfsGraph = copy.deepcopy(graph3) # copy of the graph for dfs topological sort algorithm\n",
    "    bfsGraph = copy.deepcopy(graph3) # copy of the graph for bfs topological sort algorithm \n",
    "    # RUN DFS TOPO SORT\n",
    "    dfs_runtime, DFS_topo_list = dfsTopo(dfsGraph, False)\n",
    "    dfs_runtime_list.append(dfs_runtime)\n",
    "\n",
    "# PRINT DFS TOPO LIST\n",
    "#print(\"DFS topo list = \" + str(DFS_topo_list))\n",
    "print(\"Runtime = \" + str(dfs_runtime_list))"
   ]
  },
  {
   "cell_type": "markdown",
   "metadata": {},
   "source": [
    "Make Time Graphs After Algorithms"
   ]
  },
  {
   "cell_type": "code",
   "execution_count": null,
   "metadata": {},
   "outputs": [
    {
     "data": {
      "image/png": "[encoded data removed]",
      "text/plain": [
       "<Figure size 432x288 with 1 Axes>"
      ]
     },
     "metadata": {
      "needs_background": "light"
     },
     "output_type": "display_data"
    }
   ],
   "source": [
    "# PRINT GRAPH\n",
    "#nx.draw(graph3, node_color=nx.get_node_attributes(graph3, 'color').values(), with_labels=True)\n",
    "plt.plot(nodeSizes, dfs_runtime_list, 'o')\n",
    "plt.xlabel(\"Node Size\")\n",
    "plt.ylabel(\"Runtime (seconds)\")\n",
    "plt.yscale(\"log\")\n",
    "plt.title(\"Runtime vs Node Size for DFS Topological Sort\")\n",
    "plt.show()"
   ]
  }
 ],
 "metadata": {
  "kernelspec": {
   "display_name": "Python 3.9.12 ('608')",
   "language": "python",
   "name": "python3"
  },
  "language_info": {
   "codemirror_mode": {
    "name": "ipython",
    "version": 3
   },
   "file_extension": ".py",
   "mimetype": "text/x-python",
   "name": "python",
   "nbconvert_exporter": "python",
   "pygments_lexer": "ipython3",
   "version": "3.9.12"
  },
  "orig_nbformat": 4,
  "vscode": {
   "interpreter": {
    "hash": "f17bcf7f59724cce155342705891b8c018a0c59f3df19fb5a215bb148dd2d46b"
   }
  }
 },
 "nbformat": 4,
 "nbformat_minor": 2
}
